{
 "cells": [
  {
   "cell_type": "code",
   "execution_count": 1,
   "metadata": {},
   "outputs": [],
   "source": [
    "import numpy as np \n",
    "import pandas as pd \n",
    "\n",
    "# text processing libraries\n",
    "import re\n",
    "import string\n",
    "import nltk\n",
    "from nltk.corpus import stopwords\n",
    "\n",
    "# matplotlib and seaborn for plotting\n",
    "import matplotlib.pyplot as plt\n",
    "import seaborn as sns\n",
    "\n",
    "# Suppress warnings \n",
    "import warnings\n",
    "warnings.filterwarnings('ignore')"
   ]
  },
  {
   "cell_type": "code",
   "execution_count": 62,
   "metadata": {},
   "outputs": [
    {
     "name": "stdout",
     "output_type": "stream",
     "text": [
      "(7613, 5)\n"
     ]
    },
    {
     "data": {
      "text/html": [
       "<div>\n",
       "<style scoped>\n",
       "    .dataframe tbody tr th:only-of-type {\n",
       "        vertical-align: middle;\n",
       "    }\n",
       "\n",
       "    .dataframe tbody tr th {\n",
       "        vertical-align: top;\n",
       "    }\n",
       "\n",
       "    .dataframe thead th {\n",
       "        text-align: right;\n",
       "    }\n",
       "</style>\n",
       "<table border=\"1\" class=\"dataframe\">\n",
       "  <thead>\n",
       "    <tr style=\"text-align: right;\">\n",
       "      <th></th>\n",
       "      <th>id</th>\n",
       "      <th>keyword</th>\n",
       "      <th>location</th>\n",
       "      <th>text</th>\n",
       "      <th>target</th>\n",
       "    </tr>\n",
       "  </thead>\n",
       "  <tbody>\n",
       "    <tr>\n",
       "      <th>0</th>\n",
       "      <td>1</td>\n",
       "      <td>NaN</td>\n",
       "      <td>NaN</td>\n",
       "      <td>Our Deeds are the Reason of this #earthquake M...</td>\n",
       "      <td>1</td>\n",
       "    </tr>\n",
       "    <tr>\n",
       "      <th>1</th>\n",
       "      <td>4</td>\n",
       "      <td>NaN</td>\n",
       "      <td>NaN</td>\n",
       "      <td>Forest fire near La Ronge Sask. Canada</td>\n",
       "      <td>1</td>\n",
       "    </tr>\n",
       "    <tr>\n",
       "      <th>2</th>\n",
       "      <td>5</td>\n",
       "      <td>NaN</td>\n",
       "      <td>NaN</td>\n",
       "      <td>All residents asked to 'shelter in place' are ...</td>\n",
       "      <td>1</td>\n",
       "    </tr>\n",
       "    <tr>\n",
       "      <th>3</th>\n",
       "      <td>6</td>\n",
       "      <td>NaN</td>\n",
       "      <td>NaN</td>\n",
       "      <td>13,000 people receive #wildfires evacuation or...</td>\n",
       "      <td>1</td>\n",
       "    </tr>\n",
       "    <tr>\n",
       "      <th>4</th>\n",
       "      <td>7</td>\n",
       "      <td>NaN</td>\n",
       "      <td>NaN</td>\n",
       "      <td>Just got sent this photo from Ruby #Alaska as ...</td>\n",
       "      <td>1</td>\n",
       "    </tr>\n",
       "  </tbody>\n",
       "</table>\n",
       "</div>"
      ],
      "text/plain": [
       "   id keyword location                                               text  \\\n",
       "0   1     NaN      NaN  Our Deeds are the Reason of this #earthquake M...   \n",
       "1   4     NaN      NaN             Forest fire near La Ronge Sask. Canada   \n",
       "2   5     NaN      NaN  All residents asked to 'shelter in place' are ...   \n",
       "3   6     NaN      NaN  13,000 people receive #wildfires evacuation or...   \n",
       "4   7     NaN      NaN  Just got sent this photo from Ruby #Alaska as ...   \n",
       "\n",
       "   target  \n",
       "0       1  \n",
       "1       1  \n",
       "2       1  \n",
       "3       1  \n",
       "4       1  "
      ]
     },
     "execution_count": 62,
     "metadata": {},
     "output_type": "execute_result"
    }
   ],
   "source": [
    "#Getting data\n",
    "train_df = pd.read_csv('train.csv')\n",
    "print(train_df.shape)\n",
    "ntrain=train_df.shape[0]\n",
    "train_df.head()"
   ]
  },
  {
   "cell_type": "code",
   "execution_count": 61,
   "metadata": {},
   "outputs": [
    {
     "name": "stdout",
     "output_type": "stream",
     "text": [
      "(3263, 4)\n"
     ]
    },
    {
     "data": {
      "text/html": [
       "<div>\n",
       "<style scoped>\n",
       "    .dataframe tbody tr th:only-of-type {\n",
       "        vertical-align: middle;\n",
       "    }\n",
       "\n",
       "    .dataframe tbody tr th {\n",
       "        vertical-align: top;\n",
       "    }\n",
       "\n",
       "    .dataframe thead th {\n",
       "        text-align: right;\n",
       "    }\n",
       "</style>\n",
       "<table border=\"1\" class=\"dataframe\">\n",
       "  <thead>\n",
       "    <tr style=\"text-align: right;\">\n",
       "      <th></th>\n",
       "      <th>id</th>\n",
       "      <th>keyword</th>\n",
       "      <th>location</th>\n",
       "      <th>text</th>\n",
       "    </tr>\n",
       "  </thead>\n",
       "  <tbody>\n",
       "    <tr>\n",
       "      <th>0</th>\n",
       "      <td>0</td>\n",
       "      <td>NaN</td>\n",
       "      <td>NaN</td>\n",
       "      <td>Just happened a terrible car crash</td>\n",
       "    </tr>\n",
       "    <tr>\n",
       "      <th>1</th>\n",
       "      <td>2</td>\n",
       "      <td>NaN</td>\n",
       "      <td>NaN</td>\n",
       "      <td>Heard about #earthquake is different cities, s...</td>\n",
       "    </tr>\n",
       "    <tr>\n",
       "      <th>2</th>\n",
       "      <td>3</td>\n",
       "      <td>NaN</td>\n",
       "      <td>NaN</td>\n",
       "      <td>there is a forest fire at spot pond, geese are...</td>\n",
       "    </tr>\n",
       "    <tr>\n",
       "      <th>3</th>\n",
       "      <td>9</td>\n",
       "      <td>NaN</td>\n",
       "      <td>NaN</td>\n",
       "      <td>Apocalypse lighting. #Spokane #wildfires</td>\n",
       "    </tr>\n",
       "    <tr>\n",
       "      <th>4</th>\n",
       "      <td>11</td>\n",
       "      <td>NaN</td>\n",
       "      <td>NaN</td>\n",
       "      <td>Typhoon Soudelor kills 28 in China and Taiwan</td>\n",
       "    </tr>\n",
       "  </tbody>\n",
       "</table>\n",
       "</div>"
      ],
      "text/plain": [
       "   id keyword location                                               text\n",
       "0   0     NaN      NaN                 Just happened a terrible car crash\n",
       "1   2     NaN      NaN  Heard about #earthquake is different cities, s...\n",
       "2   3     NaN      NaN  there is a forest fire at spot pond, geese are...\n",
       "3   9     NaN      NaN           Apocalypse lighting. #Spokane #wildfires\n",
       "4  11     NaN      NaN      Typhoon Soudelor kills 28 in China and Taiwan"
      ]
     },
     "execution_count": 61,
     "metadata": {},
     "output_type": "execute_result"
    }
   ],
   "source": [
    "test_df = pd.read_csv('test.csv')\n",
    "print(test_df.shape)\n",
    "test_df.head()"
   ]
  },
  {
   "cell_type": "code",
   "execution_count": 63,
   "metadata": {},
   "outputs": [],
   "source": [
    "ids=test_df['id']\n",
    "train_df.drop(columns='id',inplace=True)\n",
    "test_df.drop(columns='id',inplace=True)"
   ]
  },
  {
   "cell_type": "code",
   "execution_count": 5,
   "metadata": {},
   "outputs": [],
   "source": [
    "alldata_df=pd.concat((train_df,test_df)).reset_index(drop=True)"
   ]
  },
  {
   "cell_type": "code",
   "execution_count": 6,
   "metadata": {},
   "outputs": [
    {
     "data": {
      "text/html": [
       "<div>\n",
       "<style scoped>\n",
       "    .dataframe tbody tr th:only-of-type {\n",
       "        vertical-align: middle;\n",
       "    }\n",
       "\n",
       "    .dataframe tbody tr th {\n",
       "        vertical-align: top;\n",
       "    }\n",
       "\n",
       "    .dataframe thead th {\n",
       "        text-align: right;\n",
       "    }\n",
       "</style>\n",
       "<table border=\"1\" class=\"dataframe\">\n",
       "  <thead>\n",
       "    <tr style=\"text-align: right;\">\n",
       "      <th></th>\n",
       "      <th>keyword</th>\n",
       "      <th>location</th>\n",
       "      <th>target</th>\n",
       "      <th>text</th>\n",
       "    </tr>\n",
       "  </thead>\n",
       "  <tbody>\n",
       "    <tr>\n",
       "      <th>0</th>\n",
       "      <td>NaN</td>\n",
       "      <td>NaN</td>\n",
       "      <td>1.0</td>\n",
       "      <td>Our Deeds are the Reason of this #earthquake M...</td>\n",
       "    </tr>\n",
       "    <tr>\n",
       "      <th>1</th>\n",
       "      <td>NaN</td>\n",
       "      <td>NaN</td>\n",
       "      <td>1.0</td>\n",
       "      <td>Forest fire near La Ronge Sask. Canada</td>\n",
       "    </tr>\n",
       "    <tr>\n",
       "      <th>2</th>\n",
       "      <td>NaN</td>\n",
       "      <td>NaN</td>\n",
       "      <td>1.0</td>\n",
       "      <td>All residents asked to 'shelter in place' are ...</td>\n",
       "    </tr>\n",
       "    <tr>\n",
       "      <th>3</th>\n",
       "      <td>NaN</td>\n",
       "      <td>NaN</td>\n",
       "      <td>1.0</td>\n",
       "      <td>13,000 people receive #wildfires evacuation or...</td>\n",
       "    </tr>\n",
       "    <tr>\n",
       "      <th>4</th>\n",
       "      <td>NaN</td>\n",
       "      <td>NaN</td>\n",
       "      <td>1.0</td>\n",
       "      <td>Just got sent this photo from Ruby #Alaska as ...</td>\n",
       "    </tr>\n",
       "    <tr>\n",
       "      <th>5</th>\n",
       "      <td>NaN</td>\n",
       "      <td>NaN</td>\n",
       "      <td>1.0</td>\n",
       "      <td>#RockyFire Update =&gt; California Hwy. 20 closed...</td>\n",
       "    </tr>\n",
       "    <tr>\n",
       "      <th>6</th>\n",
       "      <td>NaN</td>\n",
       "      <td>NaN</td>\n",
       "      <td>1.0</td>\n",
       "      <td>#flood #disaster Heavy rain causes flash flood...</td>\n",
       "    </tr>\n",
       "    <tr>\n",
       "      <th>7</th>\n",
       "      <td>NaN</td>\n",
       "      <td>NaN</td>\n",
       "      <td>1.0</td>\n",
       "      <td>I'm on top of the hill and I can see a fire in...</td>\n",
       "    </tr>\n",
       "    <tr>\n",
       "      <th>8</th>\n",
       "      <td>NaN</td>\n",
       "      <td>NaN</td>\n",
       "      <td>1.0</td>\n",
       "      <td>There's an emergency evacuation happening now ...</td>\n",
       "    </tr>\n",
       "    <tr>\n",
       "      <th>9</th>\n",
       "      <td>NaN</td>\n",
       "      <td>NaN</td>\n",
       "      <td>1.0</td>\n",
       "      <td>I'm afraid that the tornado is coming to our a...</td>\n",
       "    </tr>\n",
       "  </tbody>\n",
       "</table>\n",
       "</div>"
      ],
      "text/plain": [
       "  keyword location  target                                               text\n",
       "0     NaN      NaN     1.0  Our Deeds are the Reason of this #earthquake M...\n",
       "1     NaN      NaN     1.0             Forest fire near La Ronge Sask. Canada\n",
       "2     NaN      NaN     1.0  All residents asked to 'shelter in place' are ...\n",
       "3     NaN      NaN     1.0  13,000 people receive #wildfires evacuation or...\n",
       "4     NaN      NaN     1.0  Just got sent this photo from Ruby #Alaska as ...\n",
       "5     NaN      NaN     1.0  #RockyFire Update => California Hwy. 20 closed...\n",
       "6     NaN      NaN     1.0  #flood #disaster Heavy rain causes flash flood...\n",
       "7     NaN      NaN     1.0  I'm on top of the hill and I can see a fire in...\n",
       "8     NaN      NaN     1.0  There's an emergency evacuation happening now ...\n",
       "9     NaN      NaN     1.0  I'm afraid that the tornado is coming to our a..."
      ]
     },
     "execution_count": 6,
     "metadata": {},
     "output_type": "execute_result"
    }
   ],
   "source": [
    "alldata_df.head(10)"
   ]
  },
  {
   "cell_type": "code",
   "execution_count": 7,
   "metadata": {},
   "outputs": [
    {
     "data": {
      "text/plain": [
       "0    4342\n",
       "1    3271\n",
       "Name: target, dtype: int64"
      ]
     },
     "execution_count": 7,
     "metadata": {},
     "output_type": "execute_result"
    }
   ],
   "source": [
    "train_df['target'].value_counts()"
   ]
  },
  {
   "cell_type": "code",
   "execution_count": 8,
   "metadata": {},
   "outputs": [
    {
     "data": {
      "text/plain": [
       "<matplotlib.axes._subplots.AxesSubplot at 0x7fcf2a0a8898>"
      ]
     },
     "execution_count": 8,
     "metadata": {},
     "output_type": "execute_result"
    },
    {
     "data": {
      "image/png": "[encoded data removed]",
      "text/plain": [
       "<Figure size 432x288 with 1 Axes>"
      ]
     },
     "metadata": {
      "needs_background": "light"
     },
     "output_type": "display_data"
    }
   ],
   "source": [
    "sns.barplot(x=train_df['target'].value_counts().index,y=train_df['target'].value_counts())"
   ]
  },
  {
   "cell_type": "code",
   "execution_count": 9,
   "metadata": {},
   "outputs": [
    {
     "data": {
      "text/plain": [
       "keyword       61\n",
       "location    2533\n",
       "text           0\n",
       "target         0\n",
       "dtype: int64"
      ]
     },
     "execution_count": 9,
     "metadata": {},
     "output_type": "execute_result"
    }
   ],
   "source": [
    "train_df.isnull().sum()"
   ]
  },
  {
   "cell_type": "code",
   "execution_count": 10,
   "metadata": {},
   "outputs": [
    {
     "data": {
      "text/plain": [
       "USA                              141\n",
       "New York                         109\n",
       "United States                     65\n",
       "London                            58\n",
       "Canada                            42\n",
       "                                ... \n",
       "we?it Û¢ ixwin                    1\n",
       "Kuwait                             1\n",
       "University of Maryland             1\n",
       "#Capulets #5SOSfam #5quadfam       1\n",
       "Sicamous, British Columbia         1\n",
       "Name: location, Length: 4521, dtype: int64"
      ]
     },
     "execution_count": 10,
     "metadata": {},
     "output_type": "execute_result"
    }
   ],
   "source": [
    "alldata_df['location'].value_counts()"
   ]
  },
  {
   "cell_type": "code",
   "execution_count": 11,
   "metadata": {},
   "outputs": [],
   "source": [
    "alldata_df.replace({'United States':'USA',\n",
    "                           'New York':'USA',\n",
    "                            'New Jersey':'USA',\n",
    "                            \"London\":'UK',\n",
    "                            \"Los Angeles, CA\":'USA',\n",
    "                            \"Washington, D.C.\":'USA',\n",
    "                            \"California\":'USA',\n",
    "                             \"Chicago, IL\":'USA',\n",
    "                             \"Chicago\":'USA',\n",
    "                            \"New York, NY\":'USA',\n",
    "                            \"California, USA\":'USA',\n",
    "                            \"FLorida\":'USA',\n",
    "                            \"Nigeria\":'Africa',\n",
    "                            \"Kenya\":'Africa',\n",
    "                            \"San Francisco\":'USA',\n",
    "                            \"Seattle, WA\":'USA',\n",
    "                            \"Florida\":'USA',\n",
    "                            \"San Diego, CA\":'USA',\n",
    "                            \"United Kingdom\":'UK',\n",
    "                            \"Los Angeles\":'USA',\n",
    "                            \"Denver, CO\":'USA',\n",
    "                            \"Denver, Colorado\":'USA',\n",
    "                            \"Toronto\":'Canada',\n",
    "                            \"San Francisco, CA\":'USA',\n",
    "                            \"NYC\":'USA',\n",
    "                            \"Seattle\":'USA',\n",
    "                            \"Earth\":'Worldwide',\n",
    "                            \"Ireland\":'UK',\n",
    "                            \"London, England\":'UK',\n",
    "                            \"New York City\":'USA',\n",
    "                            \"Texas\":'USA',\n",
    "                            \"London, UK\":'UK',\n",
    "                            \"Atlanta, GA\":'USA',\n",
    "                            \"Mumbai\":\"India\",\n",
    "                            \"Delhi\":\"India\",\n",
    "                            \"World\":\"Worldwide\",\n",
    "                            \"Manchester\":'UK',\n",
    "                            \"Nashville, TN\":'USA',\n",
    "                            \"Vancouver \":'Canada',\n",
    "                            \"Houston, TX \":\"USA\",\n",
    "                            \"Paterson, New Jersey \":'USA',\n",
    "                            \"Melbourne, Australia\":'Australia',\n",
    "                            \"Dallas, TX\":'USA',\n",
    "                            \"Calgary, Alberta\":'Canada',\n",
    "                            \"Memphis, TN\":'USA',\n",
    "                            \"Colorado, USA\":'USA',\n",
    "                            \"US\":'USA',\n",
    "                            \"Sacramento, CA\":'USA',\n",
    "                            \"Colorado\":'USA',\n",
    "                            \"Global\": \"Worldwide\",\n",
    "                            \"Pennsylvania, USA\":'USA',\n",
    "                            'Austin, TX':'USA',\n",
    "                            'Scotland':'UK',\n",
    "                            'Maryland':'USA',\n",
    "                            'Brooklyn, NY':'USA',\n",
    "                            'worldwide':'Worldwide',\n",
    "                            'Planet Earth':'Worldwide',\n",
    "                            'Portland, OR':'USA',\n",
    "                            'Texas, USA':'USA',\n",
    "                            'Morioh, Japan':'Japan',\n",
    "                            'Las Vegas':'USA',\n",
    "                            'Charlotte, NC':'USA',\n",
    "                            '304':'Worldwide',\n",
    "                            'Sydney':'Australia',\n",
    "                            'Sydney, Australia':'Australia',\n",
    "                            'Oklahoma City, OK':'USA',\n",
    "                            'Massachusetts':'USA',\n",
    "                            'Indiana':'USA',\n",
    "                            'Southern California':'USA',\n",
    "                            ' Road to the Billionaires Club':'USA',\n",
    "                            'Michigan':'USA',\n",
    "                            'California, United States':'USA',\n",
    "                            'Philadelphia, PA':'USA',\n",
    "                            'Boston, MA':'USA',\n",
    "                            'Newcastle':'UK',\n",
    "                            'England':'UK',\n",
    "                            'U.S.A.':'USA',\n",
    "                            'Orlando, FL':'USA',\n",
    "                            'Phoenix, AZ':'USA',\n",
    "                            'Manhattan, NY':'USA',\n",
    "                            'Columbus, OH':'USA',\n",
    "                            'Arizona':'USA',\n",
    "                            'San Diego':'USA',\n",
    "                            'Florida, USA':'USA',\n",
    "                            'london':'UK',\n",
    "                            'Cleveland, OH':'USA',\n",
    "                            'North Carolina, USA':'USA',\n",
    "                            'NY':'USA',\n",
    "                            'Liverpool':'UK',\n",
    "                            'Melbourne':'Australia',\n",
    "                            'Tennessee':'USA',\n",
    "                            'Atlanta':'USA',\n",
    "                            'New York, USA':'USA',\n",
    "                            'Oakland, CA':'USA',\n",
    "                            'WorldWide':'Worldwide',\n",
    "                            'Wisconsin':'USA',\n",
    "                            'Indianapolis, IN':'USA',\n",
    "                            'Washington DC':'USA',\n",
    "                            'Washington, DC':'USA',\n",
    "                            'U.S.A':'USA',\n",
    "                            'Toronto, Ontario':'Canada',\n",
    "                            'Coventry':'UK',\n",
    "                            'Las Vegas, Nevada':'USA',\n",
    "                            'Portland, Oregon':'USA',\n",
    "                            'Sydney, New South Wales':'USA',\n",
    "                            'Manchester, England':'UK',\n",
    "                            'Orlando':'USA',\n",
    "                            'Toronto, Canada':'Canada',\n",
    "                            'Baltimore, MD':'USA',\n",
    "                            'Massachusetts, USA':'USA',\n",
    "                            'Mumbai, Maharashtra':'India',\n",
    "                            'Los Angeles, California':'USA',\n",
    "                            'Hawaii, USA':'USA',\n",
    "                            'Paignton':'USA',\n",
    "                            'Calgary, AB':'Canada',\n",
    "                            'Tampa, FL':'USA',\n",
    "                            'Anchorage, AK':'USA',\n",
    "                            'Washington State':'USA',\n",
    "                            'Kansas City, MO':'USA',\n",
    "                            'Atlanta Georgia':'USA',\n",
    "                            'Vancouver, BC':'Canada',\n",
    "                            'San Antonio, TX':'USA',\n",
    "                            'Asheville, NC':'USA',\n",
    "                            'The Netherlands':'Netherlands',\n",
    "                            'Kansas City':'USA',\n",
    "                            'New Jersey, USA':'USA',\n",
    "                            'Lagos, Nigeria':'Nigeria',\n",
    "                            'Lagos':'Nigeria',\n",
    "                            'Pennsylvania':'USA',\n",
    "                            'Atlanta Georgia':'Canada',\n",
    "                            'New Hampshire':'USA',\n",
    "                            'Las Vegas, NV':'USA',\n",
    "                            'Birmingham':'UK',\n",
    "                            'Austin, Texas':'USA',\n",
    "                            'Cape Town':'South Africa',\n",
    "                            'Tokyo':'Japan',\n",
    "                            'San Jose, CA':'USA',\n",
    "                            'Calgary':'Canada',\n",
    "                            'Raleigh, NC':'USA',\n",
    "                            'Midwest':'USA',\n",
    "                            'Glasgow':'UK',\n",
    "                            'Detroit, MI':'USA',\n",
    "                            'Atlanta Georgia ':'Canada',\n",
    "                            'Leeds, England':'UK',\n",
    "                            'Edinburgh':'UK',\n",
    "                            'St. Louis, MO':'USA',\n",
    "                            'North Carolina':'USA',\n",
    "                            'Oregon, USA':'USA',\n",
    "                            'Rocky Mountains':'USA',\n",
    "                            'Port Harcourt, Nigeria':'Nigeria',\n",
    "                            'Haddonfield, NJ':'USA',\n",
    "                            'Madison, WI':'USA',\n",
    "                            'MI':'USA',\n",
    "                            'Chicago, Illinois':'USA',\n",
    "                            'America':'USA',\n",
    "                            'World Wide':'Worldwide',\n",
    "                            'Buffalo, NY':'USA',\n",
    "                            'Virginia':'USA',\n",
    "                            'Dubai, UAE':'UAE',\n",
    "                            'Iraq|Afghanistan| RSA |Baghdad':'MiddleEast',\n",
    "                            'Leicester':'UK',\n",
    "                            'United States of America':'USA',\n",
    "                            'U.S.':'USA',\n",
    "                            'Miami, FL':'USA',\n",
    "                            \"Jakarta/Kuala Lumpur/S'pore\":'Indonesia',\n",
    "                            'Dublin, Ireland':'Ireland',\n",
    "                            'British Columbia, Canada':'Canada',\n",
    "                            'Calgary, Alberta, Canada':'Canada',\n",
    "                            'New Delhi, Delhi':'India',\n",
    "                            'mumbai':'India',\n",
    "                            'Bend, Oregon':'USA',\n",
    "                            'Seattle, Washington':'USA',\n",
    "                            'Illinois, USA':'USA',\n",
    "                            'Geneva':'Switzerland',\n",
    "                            'Georgia':'USA',\n",
    "                            'Memphis':'USA',\n",
    "                            'Boston':'USA',\n",
    "                            'Brazil':'Brasil',\n",
    "                            'London UK':'UK',\n",
    "                            'Oregon':'US',\n",
    "                            'New York, New York':'USA',\n",
    "                            'Houston':'USA',\n",
    "                            'Connecticut':'USA',\n",
    "                            'MA':'USA',\n",
    "                            'Baton Rouge, LA':'USA',\n",
    "                            'Sacramento':'USA',\n",
    "                            'Nottingham, England':'UK',\n",
    "                            'Rio de Janeiro':'Brasil',\n",
    "                            'Nairobi-KENYA':'Africa',\n",
    "                            'nyc':'USA',\n",
    "                            'Auckland, New Zealand':'New Zealand',\n",
    "                            'Vancouver, British Columbia':'Canada',\n",
    "                            'Tennessee, USA':'USA',\n",
    "                            'San Francisco Bay Area':'USA',\n",
    "                            'New Orleans, LA':'USA',\n",
    "                            'Adelaide, Australia':'Australia',\n",
    "                            'Corpus Christi, Texas':'USA',\n",
    "                            'Louisville, KY':'USA',\n",
    "                            'Huntsville, AL':'USA',\n",
    "                            'Hollywood, CA':'USA',\n",
    "                            'Washington D.C.':'USA',\n",
    "                            'Tulsa, Oklahoma':'USA',\n",
    "                            'Roanoke, VA':'USA',\n",
    "                            'Houston, TX':'USA',\n",
    "                            'Nairobi':'Kenya',\n",
    "                            'Victoria, British Columbia':'Canada',\n",
    "                            'Sydney Australia':'Australia',\n",
    "                            'Winston-Salem, NC':'USA',\n",
    "                            'Virginia, USA':'USA',\n",
    "                            'Alaska, USA':'USA',\n",
    "                            '140920-21 & 150718-19 BEIJING':'China',\n",
    "                            'Calgary, AB, Canada':'Canada',\n",
    "                            'Victoria, BC':'USA',\n",
    "                            'Karachi':'Pakistan',\n",
    "                            'Milwaukee, WI':'USA',\n",
    "                            'los angeles, ca':'USA',\n",
    "                            'Arlington, TX':'USA',\n",
    "                            'Edmonton':'Canada',\n",
    "                            'Tulsa, OK':'USA',\n",
    "                            'Brisbane':'Australia',\n",
    "                            'Macclesfield':'UK',\n",
    "                            'Ontario, Canada':'Canada',\n",
    "                            'Ottawa':'USA',\n",
    "                            'Haysville, KS':'USA',\n",
    "                            'Chevy Chase, MD':'USA',\n",
    "                            'Oklahoma City':'USA',\n",
    "                            'Wales':'UK',\n",
    "                            'Leesburg, FL':'USA',\n",
    "                            'Islamabad':'Pakistan',\n",
    "                            'Calgary, Canada':'Canada',\n",
    "                            'Mumbai , India':'India',\n",
    "                            'U.K.':'UK',\n",
    "                            'Mesa, AZ':'USA',\n",
    "                            'Baltimore':'USA',\n",
    "                            'Jacksonville, FL':'USA',\n",
    "                            'Abuja':'Nigeria',\n",
    "                            'Karachi Pakistan':'Pakistan',\n",
    "                            'Utah':'USA',\n",
    "                            'Helsinki':'Finland',\n",
    "                            'Dubai, United Arab Emirates':'UAE',\n",
    "                            'Edmonton, Alberta':'Canada',\n",
    "                            'Stockholm, Sweden':'Sweden',\n",
    "                            'Johannesburg, South Africa':'South Africa',\n",
    "                            'Vancouver':'Canada',\n",
    "                            'State College, PA':'USA',\n",
    "                            'Dubai':'UAE',\n",
    "                            'Dundee':'UK',\n",
    "                            'texas':'USA',\n",
    "                            'California ':'USA',\n",
    "                            'FCT, Abuja ':'Nigeria',\n",
    "                            'Kolkata':'India',\n",
    "                            'Desde Republica Argentina':'Argentina',\n",
    "                            'New York':'USA',\n",
    "                            'Durham, NC':'USA',\n",
    "                            'Santa Cruz, CA':'USA',\n",
    "                            'Alaska':'USA',\n",
    "                            'New York ':'USA',\n",
    "                            'Kingston, Jamaica':'Jamaica',\n",
    "                            'Oakland':'USA',\n",
    "                            'Ohio':'USA',\n",
    "                            'US':'USA',\n",
    "                            'Naperville':'USA',\n",
    "                            'Ames, Iowa':'USA',\n",
    "                            'Cardiff, UK':'UK',\n",
    "                            'West Palm Beach, Florida':'USA',\n",
    "                            'Charleston, IL':'USA',\n",
    "                            'Blackfield, England':'UK',\n",
    "                            'Conroe, TX':'USA',\n",
    "                            'Melbourne, Florida':'USA',\n",
    "                            'USA ':'USA',\n",
    "                            'Gold Coast, Australia':'Australia',\n",
    "                            'Alabama':'USA',\n",
    "                            'Dublin City, Ireland':'Ireland',\n",
    "                            'Evansville, IN':'USA',\n",
    "                            'CA':'USA',\n",
    "                            'Leeds, UK':'UK',\n",
    "                            'ss':'Middle East'\n",
    "                   },inplace=True)\n",
    "alldata_df['location'].fillna('Worldwide',inplace=True)\n",
    "alldata_df['location']=alldata_df['location'].str.lower()"
   ]
  },
  {
   "cell_type": "code",
   "execution_count": 12,
   "metadata": {},
   "outputs": [],
   "source": [
    "loc=['worldwide','usa','uk','canada','africa','india','australia','indonesia','japan','south africa','pakistan','philippines','china','singapore','brasil','uae','switzerland','jamaica','argentina','sweden','puerto rico','new zeland','italy','finland','netherlands','germany','nigeria','asia','venezuela','france','hong kong','middleeast','barbados','russia']"
   ]
  },
  {
   "cell_type": "code",
   "execution_count": 13,
   "metadata": {},
   "outputs": [
    {
     "data": {
      "text/plain": [
       "34"
      ]
     },
     "execution_count": 13,
     "metadata": {},
     "output_type": "execute_result"
    }
   ],
   "source": [
    "len(loc)"
   ]
  },
  {
   "cell_type": "code",
   "execution_count": 14,
   "metadata": {},
   "outputs": [],
   "source": [
    "temp=[]\n",
    "for y in alldata_df['location']:\n",
    "    if y not in loc:\n",
    "        temp.append('worldwide')\n",
    "    else: \n",
    "        temp.append(y)"
   ]
  },
  {
   "cell_type": "code",
   "execution_count": 15,
   "metadata": {},
   "outputs": [],
   "source": [
    "alldata_df['location']=temp"
   ]
  },
  {
   "cell_type": "code",
   "execution_count": 16,
   "metadata": {},
   "outputs": [
    {
     "data": {
      "text/plain": [
       "worldwide       8540\n",
       "usa             1430\n",
       "uk               265\n",
       "canada           139\n",
       "india             88\n",
       "africa            81\n",
       "australia         73\n",
       "nigeria           28\n",
       "indonesia         19\n",
       "japan             18\n",
       "south africa      17\n",
       "pakistan          16\n",
       "philippines       14\n",
       "singapore         13\n",
       "china             13\n",
       "brasil            12\n",
       "uae               11\n",
       "switzerland       10\n",
       "jamaica            8\n",
       "argentina          8\n",
       "puerto rico        7\n",
       "italy              7\n",
       "sweden             7\n",
       "netherlands        6\n",
       "finland            6\n",
       "germany            6\n",
       "asia               5\n",
       "middleeast         5\n",
       "venezuela          5\n",
       "hong kong          5\n",
       "france             5\n",
       "barbados           5\n",
       "russia             4\n",
       "Name: location, dtype: int64"
      ]
     },
     "execution_count": 16,
     "metadata": {},
     "output_type": "execute_result"
    }
   ],
   "source": [
    "alldata_df['location'].value_counts()"
   ]
  },
  {
   "cell_type": "code",
   "execution_count": 17,
   "metadata": {},
   "outputs": [
    {
     "data": {
      "image/png": "[encoded data removed]",
      "text/plain": [
       "<Figure size 1152x576 with 1 Axes>"
      ]
     },
     "metadata": {
      "needs_background": "light"
     },
     "output_type": "display_data"
    }
   ],
   "source": [
    "plt.subplots(figsize=(16, 8))\n",
    "\n",
    "plot=sns.barplot(x=\"location\", y=\"target\", data=alldata_df[:ntrain])\n",
    "\n",
    "for item in plot.get_xticklabels():\n",
    "    item.set_rotation(90)"
   ]
  },
  {
   "cell_type": "code",
   "execution_count": 18,
   "metadata": {},
   "outputs": [
    {
     "data": {
      "text/plain": [
       "upheaval                 50\n",
       "desolation               50\n",
       "hostage                  50\n",
       "collapsed                50\n",
       "fatal                    50\n",
       "                         ..\n",
       "forest%20fire            24\n",
       "threat                   16\n",
       "radiation%20emergency    14\n",
       "inundation               14\n",
       "epicentre                13\n",
       "Name: keyword, Length: 221, dtype: int64"
      ]
     },
     "execution_count": 18,
     "metadata": {},
     "output_type": "execute_result"
    }
   ],
   "source": [
    "alldata_df['keyword'].value_counts()"
   ]
  },
  {
   "cell_type": "code",
   "execution_count": 19,
   "metadata": {},
   "outputs": [
    {
     "data": {
      "text/plain": [
       "87"
      ]
     },
     "execution_count": 19,
     "metadata": {},
     "output_type": "execute_result"
    }
   ],
   "source": [
    "alldata_df['keyword'].isnull().sum()"
   ]
  },
  {
   "cell_type": "code",
   "execution_count": 20,
   "metadata": {},
   "outputs": [],
   "source": [
    "alldata_df['keyword'].fillna('None',inplace=True)"
   ]
  },
  {
   "cell_type": "code",
   "execution_count": 21,
   "metadata": {},
   "outputs": [
    {
     "data": {
      "image/png": "[encoded data removed]",
      "text/plain": [
       "<Figure size 1152x576 with 1 Axes>"
      ]
     },
     "metadata": {
      "needs_background": "light"
     },
     "output_type": "display_data"
    }
   ],
   "source": [
    "temp=train_df['keyword'].value_counts()[:40].index\n",
    "plt.subplots(figsize=(16, 8))\n",
    "plot=sns.barplot(y='keyword',x='target',data=train_df[train_df['keyword'].isin(temp)],\n",
    "            orient='h')"
   ]
  },
  {
   "cell_type": "code",
   "execution_count": 22,
   "metadata": {},
   "outputs": [],
   "source": [
    "alldata_df['text']=alldata_df['text'].str.lower()"
   ]
  },
  {
   "cell_type": "code",
   "execution_count": 23,
   "metadata": {},
   "outputs": [],
   "source": [
    "#cleaning text\n",
    "alldata_df['text']=alldata_df['text'].apply(lambda x:re.sub('<[^<>]+>','',x))\n",
    "alldata_df['text']=alldata_df['text'].apply(lambda x:re.sub('[0-9]+', 'number',x))\n",
    "alldata_df['text']=alldata_df['text'].apply(lambda x:re.sub('(http|https)://[^\\s]*', 'httpaddr',x))\n",
    "alldata_df['text']=alldata_df['text'].apply(lambda x:re.sub('[^\\s]+@[^\\s]+', 'emailaddr',x))\n",
    "alldata_df['text']=alldata_df['text'].apply(lambda x:re.sub('[%s]' % re.escape(string.punctuation), '', x))\n",
    "alldata_df['text']=alldata_df['text'].apply(lambda x:re.sub('\\n', '',x))\n",
    "alldata_df['text']= alldata_df['text'].apply(lambda x:re.sub('\\w*\\d\\w*', '', x))"
   ]
  },
  {
   "cell_type": "code",
   "execution_count": 24,
   "metadata": {},
   "outputs": [
    {
     "data": {
      "text/plain": [
       "0    [our, deeds, are, the, reason, of, this, earth...\n",
       "1        [forest, fire, near, la, ronge, sask, canada]\n",
       "2    [all, residents, asked, to, shelter, in, place...\n",
       "3    [numbernumber, people, receive, wildfires, eva...\n",
       "4    [just, got, sent, this, photo, from, ruby, ala...\n",
       "Name: text, dtype: object"
      ]
     },
     "execution_count": 24,
     "metadata": {},
     "output_type": "execute_result"
    }
   ],
   "source": [
    "#tokenization\n",
    "tokenizer = nltk.tokenize.RegexpTokenizer(r'\\w+')\n",
    "alldata_df['text'] = alldata_df['text'].apply(lambda x: tokenizer.tokenize(x))\n",
    "alldata_df['text'].head()"
   ]
  },
  {
   "cell_type": "code",
   "execution_count": 25,
   "metadata": {},
   "outputs": [],
   "source": [
    "#nltk.download('stopwords')"
   ]
  },
  {
   "cell_type": "code",
   "execution_count": 26,
   "metadata": {},
   "outputs": [],
   "source": [
    "from nltk.corpus import stopwords"
   ]
  },
  {
   "cell_type": "code",
   "execution_count": 27,
   "metadata": {},
   "outputs": [],
   "source": [
    "#stopwords removal\n",
    "\n",
    "alldata_df['text']=[w for w in alldata_df['text'] if w not in stopwords.words('english')]\n"
   ]
  },
  {
   "cell_type": "code",
   "execution_count": 28,
   "metadata": {},
   "outputs": [
    {
     "data": {
      "text/plain": [
       "0    [our, deed, are, the, reason, of, thi, earthqu...\n",
       "1         [forest, fire, near, la, rong, sask, canada]\n",
       "2    [all, resid, ask, to, shelter, in, place, are,...\n",
       "3    [numbernumb, peopl, receiv, wildfir, evacu, or...\n",
       "4    [just, got, sent, thi, photo, from, rubi, alas...\n",
       "Name: text, dtype: object"
      ]
     },
     "execution_count": 28,
     "metadata": {},
     "output_type": "execute_result"
    }
   ],
   "source": [
    "#Stemming\n",
    "\n",
    "stemmer = nltk.stem.PorterStemmer()\n",
    "alldata_df['text'] = alldata_df['text'].apply(lambda x: [stemmer.stem(y) for y in x])\n",
    "alldata_df['text'].head()"
   ]
  },
  {
   "cell_type": "code",
   "execution_count": 29,
   "metadata": {},
   "outputs": [],
   "source": [
    "vocabulary=[]\n",
    "frequencies=[]\n",
    "for x in alldata_df['text']:\n",
    "    for y in x:\n",
    "        if y not in vocabulary: \n",
    "            vocabulary.append(y)\n",
    "            frequencies.append(1)\n",
    "        else:\n",
    "            pos=vocabulary.index(y)\n",
    "            frequencies[pos]=frequencies[pos]+1\n",
    "            \n",
    "voc_freq=list(zip(frequencies,vocabulary))        \n"
   ]
  },
  {
   "cell_type": "code",
   "execution_count": 30,
   "metadata": {},
   "outputs": [],
   "source": [
    "voc_freq.sort(reverse=True)\n",
    "frequencies,vocabulary=zip(*voc_freq)\n",
    "frequencies=np.array(frequencies)\n",
    "length=len(frequencies[frequencies>=20])\n",
    "vocabularyList=vocabulary[:length-1]"
   ]
  },
  {
   "cell_type": "code",
   "execution_count": 31,
   "metadata": {},
   "outputs": [],
   "source": [
    "def returnIndex(lista,vocabularyList):\n",
    "    indexes=np.zeros(len(vocabularyList))\n",
    "    tot=len(lista)\n",
    "    for x in lista:\n",
    "        if x in vocabularyList:\n",
    "            pos=vocabularyList.index(x)\n",
    "            indexes[pos]=indexes[pos]+1/tot\n",
    "    return indexes"
   ]
  },
  {
   "cell_type": "code",
   "execution_count": 32,
   "metadata": {},
   "outputs": [],
   "source": [
    "featureLabel=[]\n",
    "\n",
    "for i in range(len(vocabularyList)):\n",
    "    featureLabel.append('Feature'+str(i))"
   ]
  },
  {
   "cell_type": "code",
   "execution_count": 33,
   "metadata": {},
   "outputs": [],
   "source": [
    "alldata_df['Features']=alldata_df['text'].apply(lambda x:returnIndex(x,vocabularyList))"
   ]
  },
  {
   "cell_type": "code",
   "execution_count": 34,
   "metadata": {},
   "outputs": [],
   "source": [
    "alldata_df.drop(columns=['text'],inplace=True)"
   ]
  },
  {
   "cell_type": "code",
   "execution_count": 35,
   "metadata": {},
   "outputs": [
    {
     "data": {
      "text/html": [
       "<div>\n",
       "<style scoped>\n",
       "    .dataframe tbody tr th:only-of-type {\n",
       "        vertical-align: middle;\n",
       "    }\n",
       "\n",
       "    .dataframe tbody tr th {\n",
       "        vertical-align: top;\n",
       "    }\n",
       "\n",
       "    .dataframe thead th {\n",
       "        text-align: right;\n",
       "    }\n",
       "</style>\n",
       "<table border=\"1\" class=\"dataframe\">\n",
       "  <thead>\n",
       "    <tr style=\"text-align: right;\">\n",
       "      <th></th>\n",
       "      <th>keyword</th>\n",
       "      <th>location</th>\n",
       "      <th>target</th>\n",
       "      <th>Features</th>\n",
       "    </tr>\n",
       "  </thead>\n",
       "  <tbody>\n",
       "    <tr>\n",
       "      <th>0</th>\n",
       "      <td>None</td>\n",
       "      <td>worldwide</td>\n",
       "      <td>1.0</td>\n",
       "      <td>[0.0, 0.07692307692307693, 0.0, 0.0, 0.0, 0.07...</td>\n",
       "    </tr>\n",
       "    <tr>\n",
       "      <th>1</th>\n",
       "      <td>None</td>\n",
       "      <td>worldwide</td>\n",
       "      <td>1.0</td>\n",
       "      <td>[0.0, 0.0, 0.0, 0.0, 0.0, 0.0, 0.0, 0.0, 0.0, ...</td>\n",
       "    </tr>\n",
       "    <tr>\n",
       "      <th>2</th>\n",
       "      <td>None</td>\n",
       "      <td>worldwide</td>\n",
       "      <td>1.0</td>\n",
       "      <td>[0.0, 0.0, 0.0, 0.045454545454545456, 0.090909...</td>\n",
       "    </tr>\n",
       "    <tr>\n",
       "      <th>3</th>\n",
       "      <td>None</td>\n",
       "      <td>worldwide</td>\n",
       "      <td>1.0</td>\n",
       "      <td>[0.0, 0.0, 0.0, 0.0, 0.125, 0.0, 0.0, 0.0, 0.0...</td>\n",
       "    </tr>\n",
       "    <tr>\n",
       "      <th>4</th>\n",
       "      <td>None</td>\n",
       "      <td>worldwide</td>\n",
       "      <td>1.0</td>\n",
       "      <td>[0.0, 0.0, 0.0625, 0.0, 0.0, 0.0, 0.0, 0.0, 0....</td>\n",
       "    </tr>\n",
       "    <tr>\n",
       "      <th>...</th>\n",
       "      <td>...</td>\n",
       "      <td>...</td>\n",
       "      <td>...</td>\n",
       "      <td>...</td>\n",
       "    </tr>\n",
       "    <tr>\n",
       "      <th>95</th>\n",
       "      <td>accident</td>\n",
       "      <td>worldwide</td>\n",
       "      <td>1.0</td>\n",
       "      <td>[0.0, 0.038461538461538464, 0.0, 0.03846153846...</td>\n",
       "    </tr>\n",
       "    <tr>\n",
       "      <th>96</th>\n",
       "      <td>accident</td>\n",
       "      <td>usa</td>\n",
       "      <td>0.0</td>\n",
       "      <td>[0.0, 0.0, 0.0, 0.0, 0.0, 0.0, 0.0, 0.04545454...</td>\n",
       "    </tr>\n",
       "    <tr>\n",
       "      <th>97</th>\n",
       "      <td>accident</td>\n",
       "      <td>worldwide</td>\n",
       "      <td>1.0</td>\n",
       "      <td>[0.0, 0.0, 0.047619047619047616, 0.04761904761...</td>\n",
       "    </tr>\n",
       "    <tr>\n",
       "      <th>98</th>\n",
       "      <td>accident</td>\n",
       "      <td>worldwide</td>\n",
       "      <td>0.0</td>\n",
       "      <td>[0.0, 0.0, 0.0, 0.0, 0.0, 0.0, 0.0, 0.0, 0.0, ...</td>\n",
       "    </tr>\n",
       "    <tr>\n",
       "      <th>99</th>\n",
       "      <td>accident</td>\n",
       "      <td>worldwide</td>\n",
       "      <td>1.0</td>\n",
       "      <td>[0.0, 0.0, 0.15000000000000002, 0.0, 0.05, 0.0...</td>\n",
       "    </tr>\n",
       "  </tbody>\n",
       "</table>\n",
       "<p>100 rows × 4 columns</p>\n",
       "</div>"
      ],
      "text/plain": [
       "     keyword   location  target  \\\n",
       "0       None  worldwide     1.0   \n",
       "1       None  worldwide     1.0   \n",
       "2       None  worldwide     1.0   \n",
       "3       None  worldwide     1.0   \n",
       "4       None  worldwide     1.0   \n",
       "..       ...        ...     ...   \n",
       "95  accident  worldwide     1.0   \n",
       "96  accident        usa     0.0   \n",
       "97  accident  worldwide     1.0   \n",
       "98  accident  worldwide     0.0   \n",
       "99  accident  worldwide     1.0   \n",
       "\n",
       "                                             Features  \n",
       "0   [0.0, 0.07692307692307693, 0.0, 0.0, 0.0, 0.07...  \n",
       "1   [0.0, 0.0, 0.0, 0.0, 0.0, 0.0, 0.0, 0.0, 0.0, ...  \n",
       "2   [0.0, 0.0, 0.0, 0.045454545454545456, 0.090909...  \n",
       "3   [0.0, 0.0, 0.0, 0.0, 0.125, 0.0, 0.0, 0.0, 0.0...  \n",
       "4   [0.0, 0.0, 0.0625, 0.0, 0.0, 0.0, 0.0, 0.0, 0....  \n",
       "..                                                ...  \n",
       "95  [0.0, 0.038461538461538464, 0.0, 0.03846153846...  \n",
       "96  [0.0, 0.0, 0.0, 0.0, 0.0, 0.0, 0.0, 0.04545454...  \n",
       "97  [0.0, 0.0, 0.047619047619047616, 0.04761904761...  \n",
       "98  [0.0, 0.0, 0.0, 0.0, 0.0, 0.0, 0.0, 0.0, 0.0, ...  \n",
       "99  [0.0, 0.0, 0.15000000000000002, 0.0, 0.05, 0.0...  \n",
       "\n",
       "[100 rows x 4 columns]"
      ]
     },
     "execution_count": 35,
     "metadata": {},
     "output_type": "execute_result"
    }
   ],
   "source": [
    "alldata_df.head(100)"
   ]
  },
  {
   "cell_type": "code",
   "execution_count": 36,
   "metadata": {},
   "outputs": [
    {
     "data": {
      "text/html": [
       "<div>\n",
       "<style scoped>\n",
       "    .dataframe tbody tr th:only-of-type {\n",
       "        vertical-align: middle;\n",
       "    }\n",
       "\n",
       "    .dataframe tbody tr th {\n",
       "        vertical-align: top;\n",
       "    }\n",
       "\n",
       "    .dataframe thead th {\n",
       "        text-align: right;\n",
       "    }\n",
       "</style>\n",
       "<table border=\"1\" class=\"dataframe\">\n",
       "  <thead>\n",
       "    <tr style=\"text-align: right;\">\n",
       "      <th></th>\n",
       "      <th>keyword_None</th>\n",
       "      <th>keyword_ablaze</th>\n",
       "      <th>keyword_accident</th>\n",
       "      <th>keyword_aftershock</th>\n",
       "      <th>keyword_airplane%20accident</th>\n",
       "      <th>keyword_ambulance</th>\n",
       "      <th>keyword_annihilated</th>\n",
       "      <th>keyword_annihilation</th>\n",
       "      <th>keyword_apocalypse</th>\n",
       "      <th>keyword_armageddon</th>\n",
       "      <th>...</th>\n",
       "      <th>Feature1124</th>\n",
       "      <th>Feature1125</th>\n",
       "      <th>Feature1126</th>\n",
       "      <th>Feature1127</th>\n",
       "      <th>Feature1128</th>\n",
       "      <th>Feature1129</th>\n",
       "      <th>Feature1130</th>\n",
       "      <th>Feature1131</th>\n",
       "      <th>Feature1132</th>\n",
       "      <th>Feature1133</th>\n",
       "    </tr>\n",
       "  </thead>\n",
       "  <tbody>\n",
       "    <tr>\n",
       "      <th>0</th>\n",
       "      <td>1</td>\n",
       "      <td>0</td>\n",
       "      <td>0</td>\n",
       "      <td>0</td>\n",
       "      <td>0</td>\n",
       "      <td>0</td>\n",
       "      <td>0</td>\n",
       "      <td>0</td>\n",
       "      <td>0</td>\n",
       "      <td>0</td>\n",
       "      <td>...</td>\n",
       "      <td>0.000000</td>\n",
       "      <td>0.0</td>\n",
       "      <td>0.0</td>\n",
       "      <td>0.0</td>\n",
       "      <td>0.0</td>\n",
       "      <td>0.0</td>\n",
       "      <td>0.0</td>\n",
       "      <td>0.0</td>\n",
       "      <td>0.0</td>\n",
       "      <td>0.0</td>\n",
       "    </tr>\n",
       "    <tr>\n",
       "      <th>1</th>\n",
       "      <td>1</td>\n",
       "      <td>0</td>\n",
       "      <td>0</td>\n",
       "      <td>0</td>\n",
       "      <td>0</td>\n",
       "      <td>0</td>\n",
       "      <td>0</td>\n",
       "      <td>0</td>\n",
       "      <td>0</td>\n",
       "      <td>0</td>\n",
       "      <td>...</td>\n",
       "      <td>0.000000</td>\n",
       "      <td>0.0</td>\n",
       "      <td>0.0</td>\n",
       "      <td>0.0</td>\n",
       "      <td>0.0</td>\n",
       "      <td>0.0</td>\n",
       "      <td>0.0</td>\n",
       "      <td>0.0</td>\n",
       "      <td>0.0</td>\n",
       "      <td>0.0</td>\n",
       "    </tr>\n",
       "    <tr>\n",
       "      <th>2</th>\n",
       "      <td>1</td>\n",
       "      <td>0</td>\n",
       "      <td>0</td>\n",
       "      <td>0</td>\n",
       "      <td>0</td>\n",
       "      <td>0</td>\n",
       "      <td>0</td>\n",
       "      <td>0</td>\n",
       "      <td>0</td>\n",
       "      <td>0</td>\n",
       "      <td>...</td>\n",
       "      <td>0.000000</td>\n",
       "      <td>0.0</td>\n",
       "      <td>0.0</td>\n",
       "      <td>0.0</td>\n",
       "      <td>0.0</td>\n",
       "      <td>0.0</td>\n",
       "      <td>0.0</td>\n",
       "      <td>0.0</td>\n",
       "      <td>0.0</td>\n",
       "      <td>0.0</td>\n",
       "    </tr>\n",
       "    <tr>\n",
       "      <th>3</th>\n",
       "      <td>1</td>\n",
       "      <td>0</td>\n",
       "      <td>0</td>\n",
       "      <td>0</td>\n",
       "      <td>0</td>\n",
       "      <td>0</td>\n",
       "      <td>0</td>\n",
       "      <td>0</td>\n",
       "      <td>0</td>\n",
       "      <td>0</td>\n",
       "      <td>...</td>\n",
       "      <td>0.000000</td>\n",
       "      <td>0.0</td>\n",
       "      <td>0.0</td>\n",
       "      <td>0.0</td>\n",
       "      <td>0.0</td>\n",
       "      <td>0.0</td>\n",
       "      <td>0.0</td>\n",
       "      <td>0.0</td>\n",
       "      <td>0.0</td>\n",
       "      <td>0.0</td>\n",
       "    </tr>\n",
       "    <tr>\n",
       "      <th>4</th>\n",
       "      <td>1</td>\n",
       "      <td>0</td>\n",
       "      <td>0</td>\n",
       "      <td>0</td>\n",
       "      <td>0</td>\n",
       "      <td>0</td>\n",
       "      <td>0</td>\n",
       "      <td>0</td>\n",
       "      <td>0</td>\n",
       "      <td>0</td>\n",
       "      <td>...</td>\n",
       "      <td>0.000000</td>\n",
       "      <td>0.0</td>\n",
       "      <td>0.0</td>\n",
       "      <td>0.0</td>\n",
       "      <td>0.0</td>\n",
       "      <td>0.0</td>\n",
       "      <td>0.0</td>\n",
       "      <td>0.0</td>\n",
       "      <td>0.0</td>\n",
       "      <td>0.0</td>\n",
       "    </tr>\n",
       "    <tr>\n",
       "      <th>5</th>\n",
       "      <td>1</td>\n",
       "      <td>0</td>\n",
       "      <td>0</td>\n",
       "      <td>0</td>\n",
       "      <td>0</td>\n",
       "      <td>0</td>\n",
       "      <td>0</td>\n",
       "      <td>0</td>\n",
       "      <td>0</td>\n",
       "      <td>0</td>\n",
       "      <td>...</td>\n",
       "      <td>0.000000</td>\n",
       "      <td>0.0</td>\n",
       "      <td>0.0</td>\n",
       "      <td>0.0</td>\n",
       "      <td>0.0</td>\n",
       "      <td>0.0</td>\n",
       "      <td>0.0</td>\n",
       "      <td>0.0</td>\n",
       "      <td>0.0</td>\n",
       "      <td>0.0</td>\n",
       "    </tr>\n",
       "    <tr>\n",
       "      <th>6</th>\n",
       "      <td>1</td>\n",
       "      <td>0</td>\n",
       "      <td>0</td>\n",
       "      <td>0</td>\n",
       "      <td>0</td>\n",
       "      <td>0</td>\n",
       "      <td>0</td>\n",
       "      <td>0</td>\n",
       "      <td>0</td>\n",
       "      <td>0</td>\n",
       "      <td>...</td>\n",
       "      <td>0.071429</td>\n",
       "      <td>0.0</td>\n",
       "      <td>0.0</td>\n",
       "      <td>0.0</td>\n",
       "      <td>0.0</td>\n",
       "      <td>0.0</td>\n",
       "      <td>0.0</td>\n",
       "      <td>0.0</td>\n",
       "      <td>0.0</td>\n",
       "      <td>0.0</td>\n",
       "    </tr>\n",
       "    <tr>\n",
       "      <th>7</th>\n",
       "      <td>1</td>\n",
       "      <td>0</td>\n",
       "      <td>0</td>\n",
       "      <td>0</td>\n",
       "      <td>0</td>\n",
       "      <td>0</td>\n",
       "      <td>0</td>\n",
       "      <td>0</td>\n",
       "      <td>0</td>\n",
       "      <td>0</td>\n",
       "      <td>...</td>\n",
       "      <td>0.000000</td>\n",
       "      <td>0.0</td>\n",
       "      <td>0.0</td>\n",
       "      <td>0.0</td>\n",
       "      <td>0.0</td>\n",
       "      <td>0.0</td>\n",
       "      <td>0.0</td>\n",
       "      <td>0.0</td>\n",
       "      <td>0.0</td>\n",
       "      <td>0.0</td>\n",
       "    </tr>\n",
       "    <tr>\n",
       "      <th>8</th>\n",
       "      <td>1</td>\n",
       "      <td>0</td>\n",
       "      <td>0</td>\n",
       "      <td>0</td>\n",
       "      <td>0</td>\n",
       "      <td>0</td>\n",
       "      <td>0</td>\n",
       "      <td>0</td>\n",
       "      <td>0</td>\n",
       "      <td>0</td>\n",
       "      <td>...</td>\n",
       "      <td>0.000000</td>\n",
       "      <td>0.0</td>\n",
       "      <td>0.0</td>\n",
       "      <td>0.0</td>\n",
       "      <td>0.0</td>\n",
       "      <td>0.0</td>\n",
       "      <td>0.0</td>\n",
       "      <td>0.0</td>\n",
       "      <td>0.0</td>\n",
       "      <td>0.0</td>\n",
       "    </tr>\n",
       "    <tr>\n",
       "      <th>9</th>\n",
       "      <td>1</td>\n",
       "      <td>0</td>\n",
       "      <td>0</td>\n",
       "      <td>0</td>\n",
       "      <td>0</td>\n",
       "      <td>0</td>\n",
       "      <td>0</td>\n",
       "      <td>0</td>\n",
       "      <td>0</td>\n",
       "      <td>0</td>\n",
       "      <td>...</td>\n",
       "      <td>0.000000</td>\n",
       "      <td>0.0</td>\n",
       "      <td>0.0</td>\n",
       "      <td>0.0</td>\n",
       "      <td>0.0</td>\n",
       "      <td>0.0</td>\n",
       "      <td>0.0</td>\n",
       "      <td>0.0</td>\n",
       "      <td>0.0</td>\n",
       "      <td>0.0</td>\n",
       "    </tr>\n",
       "  </tbody>\n",
       "</table>\n",
       "<p>10 rows × 1389 columns</p>\n",
       "</div>"
      ],
      "text/plain": [
       "   keyword_None  keyword_ablaze  keyword_accident  keyword_aftershock  \\\n",
       "0             1               0                 0                   0   \n",
       "1             1               0                 0                   0   \n",
       "2             1               0                 0                   0   \n",
       "3             1               0                 0                   0   \n",
       "4             1               0                 0                   0   \n",
       "5             1               0                 0                   0   \n",
       "6             1               0                 0                   0   \n",
       "7             1               0                 0                   0   \n",
       "8             1               0                 0                   0   \n",
       "9             1               0                 0                   0   \n",
       "\n",
       "   keyword_airplane%20accident  keyword_ambulance  keyword_annihilated  \\\n",
       "0                            0                  0                    0   \n",
       "1                            0                  0                    0   \n",
       "2                            0                  0                    0   \n",
       "3                            0                  0                    0   \n",
       "4                            0                  0                    0   \n",
       "5                            0                  0                    0   \n",
       "6                            0                  0                    0   \n",
       "7                            0                  0                    0   \n",
       "8                            0                  0                    0   \n",
       "9                            0                  0                    0   \n",
       "\n",
       "   keyword_annihilation  keyword_apocalypse  keyword_armageddon  ...  \\\n",
       "0                     0                   0                   0  ...   \n",
       "1                     0                   0                   0  ...   \n",
       "2                     0                   0                   0  ...   \n",
       "3                     0                   0                   0  ...   \n",
       "4                     0                   0                   0  ...   \n",
       "5                     0                   0                   0  ...   \n",
       "6                     0                   0                   0  ...   \n",
       "7                     0                   0                   0  ...   \n",
       "8                     0                   0                   0  ...   \n",
       "9                     0                   0                   0  ...   \n",
       "\n",
       "   Feature1124  Feature1125  Feature1126  Feature1127  Feature1128  \\\n",
       "0     0.000000          0.0          0.0          0.0          0.0   \n",
       "1     0.000000          0.0          0.0          0.0          0.0   \n",
       "2     0.000000          0.0          0.0          0.0          0.0   \n",
       "3     0.000000          0.0          0.0          0.0          0.0   \n",
       "4     0.000000          0.0          0.0          0.0          0.0   \n",
       "5     0.000000          0.0          0.0          0.0          0.0   \n",
       "6     0.071429          0.0          0.0          0.0          0.0   \n",
       "7     0.000000          0.0          0.0          0.0          0.0   \n",
       "8     0.000000          0.0          0.0          0.0          0.0   \n",
       "9     0.000000          0.0          0.0          0.0          0.0   \n",
       "\n",
       "   Feature1129  Feature1130  Feature1131  Feature1132  Feature1133  \n",
       "0          0.0          0.0          0.0          0.0          0.0  \n",
       "1          0.0          0.0          0.0          0.0          0.0  \n",
       "2          0.0          0.0          0.0          0.0          0.0  \n",
       "3          0.0          0.0          0.0          0.0          0.0  \n",
       "4          0.0          0.0          0.0          0.0          0.0  \n",
       "5          0.0          0.0          0.0          0.0          0.0  \n",
       "6          0.0          0.0          0.0          0.0          0.0  \n",
       "7          0.0          0.0          0.0          0.0          0.0  \n",
       "8          0.0          0.0          0.0          0.0          0.0  \n",
       "9          0.0          0.0          0.0          0.0          0.0  \n",
       "\n",
       "[10 rows x 1389 columns]"
      ]
     },
     "execution_count": 36,
     "metadata": {},
     "output_type": "execute_result"
    }
   ],
   "source": [
    "temp1=pd.get_dummies(alldata_df[['keyword','location']])\n",
    "temp2=pd.DataFrame(alldata_df.Features.tolist(), columns=featureLabel)\n",
    "temp=pd.concat([temp1,temp2],axis=1)\n",
    "temp.head(10)"
   ]
  },
  {
   "cell_type": "code",
   "execution_count": 37,
   "metadata": {},
   "outputs": [],
   "source": [
    "X=np.array(temp[:ntrain])\n",
    "Xtest=np.array(temp[ntrain:])\n",
    "Y=np.array(alldata_df[:ntrain]['target'])\n",
    "#alldata_df.drop(columns=['target','keyword','location'],inplace=True)"
   ]
  },
  {
   "cell_type": "code",
   "execution_count": 38,
   "metadata": {},
   "outputs": [
    {
     "name": "stdout",
     "output_type": "stream",
     "text": [
      "(10876, 255)\n",
      "(10876, 1134)\n",
      "(10876, 1389)\n",
      "(7613, 1389)\n",
      "(3263, 1389)\n"
     ]
    }
   ],
   "source": [
    "print(temp1.shape)\n",
    "print(temp2.shape)\n",
    "print(temp.shape)\n",
    "print(X.shape)\n",
    "print(Xtest.shape)"
   ]
  },
  {
   "cell_type": "code",
   "execution_count": 39,
   "metadata": {},
   "outputs": [
    {
     "data": {
      "text/plain": [
       "{'C': 1.0,\n",
       " 'cache_size': 1000,\n",
       " 'class_weight': None,\n",
       " 'coef0': 0.0,\n",
       " 'decision_function_shape': 'ovr',\n",
       " 'degree': 3,\n",
       " 'gamma': 'auto_deprecated',\n",
       " 'kernel': 'rbf',\n",
       " 'max_iter': -1,\n",
       " 'probability': False,\n",
       " 'random_state': 42,\n",
       " 'shrinking': True,\n",
       " 'tol': 0.001,\n",
       " 'verbose': False}"
      ]
     },
     "execution_count": 39,
     "metadata": {},
     "output_type": "execute_result"
    }
   ],
   "source": [
    "from sklearn.svm import SVC\n",
    "from sklearn.model_selection import RandomizedSearchCV\n",
    "svm=SVC(random_state=42,cache_size = 1000)\n",
    "svm.get_params()"
   ]
  },
  {
   "cell_type": "code",
   "execution_count": 40,
   "metadata": {},
   "outputs": [],
   "source": [
    "C = [x for x in np.linspace(start = 0.1, stop = 3.0, num = 100,endpoint=False)]\n",
    "#class_weight= [None,'balanced',dict]\n",
    "#decision_function_shape=['ovo','ovr']\n",
    "kernel=['linear', 'poly', 'rbf', 'sigmoid']\n",
    "\n",
    "random_grid = {'C': C,\n",
    "               #'class_weight': class_weight,\n",
    "               #'decision_function_shape': decision_function_shape,\n",
    "               'kernel': kernel}"
   ]
  },
  {
   "cell_type": "code",
   "execution_count": 79,
   "metadata": {},
   "outputs": [],
   "source": [
    "svm_random = RandomizedSearchCV(estimator = svm, param_distributions = random_grid, n_iter = 100, cv = 3, verbose=2, random_state=42, n_jobs = -1)"
   ]
  },
  {
   "cell_type": "code",
   "execution_count": 80,
   "metadata": {},
   "outputs": [
    {
     "name": "stdout",
     "output_type": "stream",
     "text": [
      "Fitting 3 folds for each of 100 candidates, totalling 300 fits\n"
     ]
    },
    {
     "name": "stderr",
     "output_type": "stream",
     "text": [
      "[Parallel(n_jobs=-1)]: Using backend LokyBackend with 8 concurrent workers.\n",
      "[Parallel(n_jobs=-1)]: Done  25 tasks      | elapsed: 11.4min\n",
      "[Parallel(n_jobs=-1)]: Done 146 tasks      | elapsed: 59.3min\n",
      "[Parallel(n_jobs=-1)]: Done 300 out of 300 | elapsed: 118.7min finished\n"
     ]
    },
    {
     "data": {
      "text/plain": [
       "RandomizedSearchCV(cv=3, error_score='raise-deprecating',\n",
       "          estimator=SVC(C=1.0, cache_size=1000, class_weight=None, coef0=0.0,\n",
       "  decision_function_shape='ovr', degree=3, gamma='auto_deprecated',\n",
       "  kernel='rbf', max_iter=-1, probability=False, random_state=42,\n",
       "  shrinking=True, tol=0.001, verbose=False),\n",
       "          fit_params=None, iid='warn', n_iter=100, n_jobs=-1,\n",
       "          param_distributions={'C': [0.1, 0.129, 0.158, 0.187, 0.216, 0.245, 0.274, 0.303, 0.33199999999999996, 0.361, 0.39, 0.41899999999999993, 0.44799999999999995, 0.477, 0.506, 0.5349999999999999, 0.564, 0.593, 0.622, 0.6509999999999999, 0.6799999999999999, 0.709, 0.7379999999999999, 0.7669999999999999, 0...26, 2.855, 2.884, 2.913, 2.9419999999999997, 2.971], 'kernel': ['linear', 'poly', 'rbf', 'sigmoid']},\n",
       "          pre_dispatch='2*n_jobs', random_state=42, refit=True,\n",
       "          return_train_score='warn', scoring=None, verbose=2)"
      ]
     },
     "execution_count": 80,
     "metadata": {},
     "output_type": "execute_result"
    }
   ],
   "source": [
    "svm_random.fit(X,Y)"
   ]
  },
  {
   "cell_type": "code",
   "execution_count": 81,
   "metadata": {},
   "outputs": [
    {
     "data": {
      "text/plain": [
       "SVC(C=2.971, cache_size=1000, class_weight=None, coef0=0.0,\n",
       "  decision_function_shape='ovr', degree=3, gamma='auto_deprecated',\n",
       "  kernel='linear', max_iter=-1, probability=False, random_state=42,\n",
       "  shrinking=True, tol=0.001, verbose=False)"
      ]
     },
     "execution_count": 81,
     "metadata": {},
     "output_type": "execute_result"
    }
   ],
   "source": [
    "svm_random.best_estimator_"
   ]
  },
  {
   "cell_type": "code",
   "execution_count": 43,
   "metadata": {},
   "outputs": [],
   "source": [
    "\n",
    "#param_grid = {\n",
    "#              'C': [x for x in np.linspace(start = 2.5, stop = 3.0, num = 1,endpoint=False)],\n",
    "#               #'class_weight': class_weight,\n",
    "               #'decision_function_shape': decision_function_shape,\n",
    "#              'kernel': kernel\n",
    "#}\n",
    "# Create a based model\n",
    "#svm = SVC(random_state=42,cache_size = 1000)\n",
    "# Instantiate the grid search model\n",
    "#grid_search = GridSearchCV(estimator = svm, param_grid = param_grid,cv = 3, n_jobs = -1, verbose = 2)"
   ]
  },
  {
   "cell_type": "code",
   "execution_count": 44,
   "metadata": {},
   "outputs": [],
   "source": [
    "#grid_search.fit(X,Y)"
   ]
  },
  {
   "cell_type": "code",
   "execution_count": 45,
   "metadata": {},
   "outputs": [],
   "source": [
    "#grid_search.best_estimator_"
   ]
  },
  {
   "cell_type": "code",
   "execution_count": 46,
   "metadata": {},
   "outputs": [],
   "source": [
    "#x_train, x_cval, y_train, y_cval = train_test_split(X, Y, test_size = 0.22, random_state = 0)"
   ]
  },
  {
   "cell_type": "code",
   "execution_count": 48,
   "metadata": {},
   "outputs": [],
   "source": [
    "from sklearn.model_selection import GridSearchCV\n",
    "from sklearn.model_selection import train_test_split\n",
    "from sklearn.metrics import f1_score, make_scorer\n",
    "param_grid = {\n",
    "              'C': [x for x in np.linspace(start = 0.01, stop = 15.0, num = 100,endpoint=False)],\n",
    "               #'class_weight': class_weight,\n",
    "               #'decision_function_shape': decision_function_shape,\n",
    "              #'kernel': kernel\n",
    "}"
   ]
  },
  {
   "cell_type": "code",
   "execution_count": 49,
   "metadata": {},
   "outputs": [],
   "source": [
    "svm = SVC(random_state=42,cache_size = 1000,kernel='linear')\n",
    "grid_search = GridSearchCV(estimator = svm, param_grid = param_grid,cv = 3, n_jobs = -1, verbose = 2,scoring=make_scorer(f1_score))"
   ]
  },
  {
   "cell_type": "code",
   "execution_count": 50,
   "metadata": {},
   "outputs": [
    {
     "name": "stdout",
     "output_type": "stream",
     "text": [
      "Fitting 3 folds for each of 100 candidates, totalling 300 fits\n"
     ]
    },
    {
     "name": "stderr",
     "output_type": "stream",
     "text": [
      "[Parallel(n_jobs=-1)]: Using backend LokyBackend with 8 concurrent workers.\n",
      "[Parallel(n_jobs=-1)]: Done  25 tasks      | elapsed:  9.3min\n",
      "[Parallel(n_jobs=-1)]: Done 146 tasks      | elapsed: 41.9min\n",
      "[Parallel(n_jobs=-1)]: Done 300 out of 300 | elapsed: 82.0min finished\n"
     ]
    },
    {
     "data": {
      "text/plain": [
       "GridSearchCV(cv=3, error_score='raise-deprecating',\n",
       "       estimator=SVC(C=1.0, cache_size=1000, class_weight=None, coef0=0.0,\n",
       "  decision_function_shape='ovr', degree=3, gamma='auto_deprecated',\n",
       "  kernel='linear', max_iter=-1, probability=False, random_state=42,\n",
       "  shrinking=True, tol=0.001, verbose=False),\n",
       "       fit_params=None, iid='warn', n_jobs=-1,\n",
       "       param_grid={'C': [0.01, 0.15990000000000001, 0.3098, 0.4597, 0.6096, 0.7595000000000001, 0.9094, 1.0593000000000001, 1.2092, 1.3591, 1.5090000000000001, 1.6589, 1.8088, 1.9587, 2.1086, 2.2584999999999997, 2.4084, 2.5583, 2.7081999999999997, 2.8581, 3.008, 3.1578999999999997, 3.3078, 3.4577, 3.607599...13.501, 13.6509, 13.8008, 13.9507, 14.1006, 14.2505, 14.4004, 14.5503, 14.7002, 14.850100000000001]},\n",
       "       pre_dispatch='2*n_jobs', refit=True, return_train_score='warn',\n",
       "       scoring=make_scorer(f1_score), verbose=2)"
      ]
     },
     "execution_count": 50,
     "metadata": {},
     "output_type": "execute_result"
    }
   ],
   "source": [
    "grid_search.fit(X,Y)"
   ]
  },
  {
   "cell_type": "code",
   "execution_count": 51,
   "metadata": {},
   "outputs": [],
   "source": [
    "results=grid_search.cv_results_"
   ]
  },
  {
   "cell_type": "code",
   "execution_count": 52,
   "metadata": {},
   "outputs": [
    {
     "data": {
      "text/plain": [
       "SVC(C=14.2505, cache_size=1000, class_weight=None, coef0=0.0,\n",
       "  decision_function_shape='ovr', degree=3, gamma='auto_deprecated',\n",
       "  kernel='linear', max_iter=-1, probability=False, random_state=42,\n",
       "  shrinking=True, tol=0.001, verbose=False)"
      ]
     },
     "execution_count": 52,
     "metadata": {},
     "output_type": "execute_result"
    }
   ],
   "source": [
    "grid_search.best_estimator_"
   ]
  },
  {
   "cell_type": "code",
   "execution_count": 59,
   "metadata": {
    "scrolled": true
   },
   "outputs": [
    {
     "data": {
      "image/png": "[encoded data removed]",
      "text/plain": [
       "<Figure size 360x360 with 1 Axes>"
      ]
     },
     "metadata": {
      "needs_background": "light"
     },
     "output_type": "display_data"
    }
   ],
   "source": [
    "plt.figure(figsize=(5, 5))\n",
    "plt.title(\"GridSearchCV\",fontsize=16)\n",
    "\n",
    "plt.xlabel(\"C\")\n",
    "plt.ylabel(\"F1 Score\")\n",
    "\n",
    "ax = plt.gca()\n",
    "ax.set_xlim(0,15)\n",
    "ax.set_ylim(0, 1)\n",
    "\n",
    "X_axis = np.array(results['param_C'].data, dtype=float)\n",
    "for sample, color in (('train', 'k'), ('test', 'g')):\n",
    "        sample_score_mean = results['mean_%s_score'%sample]\n",
    "        #sample_score_std = results['std_%s_score'%sample]\n",
    "        #ax.fill_between(X_axis, sample_score_mean - sample_score_std,sample_score_mean + sample_score_std,alpha=0.1 if sample == 'test' else 0, color=color)\n",
    "        ax.plot(X_axis, sample_score_mean,'-', color=color,alpha=1,label=\"%s\" %sample)\n",
    "\n",
    "plt.legend(loc=\"best\")\n",
    "plt.grid(False)\n",
    "plt.show()"
   ]
  },
  {
   "cell_type": "code",
   "execution_count": 60,
   "metadata": {},
   "outputs": [
    {
     "data": {
      "text/html": [
       "<div>\n",
       "<style scoped>\n",
       "    .dataframe tbody tr th:only-of-type {\n",
       "        vertical-align: middle;\n",
       "    }\n",
       "\n",
       "    .dataframe tbody tr th {\n",
       "        vertical-align: top;\n",
       "    }\n",
       "\n",
       "    .dataframe thead th {\n",
       "        text-align: right;\n",
       "    }\n",
       "</style>\n",
       "<table border=\"1\" class=\"dataframe\">\n",
       "  <thead>\n",
       "    <tr style=\"text-align: right;\">\n",
       "      <th></th>\n",
       "      <th>keyword</th>\n",
       "      <th>location</th>\n",
       "      <th>text</th>\n",
       "    </tr>\n",
       "  </thead>\n",
       "  <tbody>\n",
       "    <tr>\n",
       "      <th>0</th>\n",
       "      <td>NaN</td>\n",
       "      <td>NaN</td>\n",
       "      <td>Just happened a terrible car crash</td>\n",
       "    </tr>\n",
       "    <tr>\n",
       "      <th>1</th>\n",
       "      <td>NaN</td>\n",
       "      <td>NaN</td>\n",
       "      <td>Heard about #earthquake is different cities, s...</td>\n",
       "    </tr>\n",
       "    <tr>\n",
       "      <th>2</th>\n",
       "      <td>NaN</td>\n",
       "      <td>NaN</td>\n",
       "      <td>there is a forest fire at spot pond, geese are...</td>\n",
       "    </tr>\n",
       "    <tr>\n",
       "      <th>3</th>\n",
       "      <td>NaN</td>\n",
       "      <td>NaN</td>\n",
       "      <td>Apocalypse lighting. #Spokane #wildfires</td>\n",
       "    </tr>\n",
       "    <tr>\n",
       "      <th>4</th>\n",
       "      <td>NaN</td>\n",
       "      <td>NaN</td>\n",
       "      <td>Typhoon Soudelor kills 28 in China and Taiwan</td>\n",
       "    </tr>\n",
       "    <tr>\n",
       "      <th>...</th>\n",
       "      <td>...</td>\n",
       "      <td>...</td>\n",
       "      <td>...</td>\n",
       "    </tr>\n",
       "    <tr>\n",
       "      <th>3258</th>\n",
       "      <td>NaN</td>\n",
       "      <td>NaN</td>\n",
       "      <td>EARTHQUAKE SAFETY LOS ANGELES ÛÒ SAFETY FASTE...</td>\n",
       "    </tr>\n",
       "    <tr>\n",
       "      <th>3259</th>\n",
       "      <td>NaN</td>\n",
       "      <td>NaN</td>\n",
       "      <td>Storm in RI worse than last hurricane. My city...</td>\n",
       "    </tr>\n",
       "    <tr>\n",
       "      <th>3260</th>\n",
       "      <td>NaN</td>\n",
       "      <td>NaN</td>\n",
       "      <td>Green Line derailment in Chicago http://t.co/U...</td>\n",
       "    </tr>\n",
       "    <tr>\n",
       "      <th>3261</th>\n",
       "      <td>NaN</td>\n",
       "      <td>NaN</td>\n",
       "      <td>MEG issues Hazardous Weather Outlook (HWO) htt...</td>\n",
       "    </tr>\n",
       "    <tr>\n",
       "      <th>3262</th>\n",
       "      <td>NaN</td>\n",
       "      <td>NaN</td>\n",
       "      <td>#CityofCalgary has activated its Municipal Eme...</td>\n",
       "    </tr>\n",
       "  </tbody>\n",
       "</table>\n",
       "<p>3263 rows × 3 columns</p>\n",
       "</div>"
      ],
      "text/plain": [
       "     keyword location                                               text\n",
       "0        NaN      NaN                 Just happened a terrible car crash\n",
       "1        NaN      NaN  Heard about #earthquake is different cities, s...\n",
       "2        NaN      NaN  there is a forest fire at spot pond, geese are...\n",
       "3        NaN      NaN           Apocalypse lighting. #Spokane #wildfires\n",
       "4        NaN      NaN      Typhoon Soudelor kills 28 in China and Taiwan\n",
       "...      ...      ...                                                ...\n",
       "3258     NaN      NaN  EARTHQUAKE SAFETY LOS ANGELES ÛÒ SAFETY FASTE...\n",
       "3259     NaN      NaN  Storm in RI worse than last hurricane. My city...\n",
       "3260     NaN      NaN  Green Line derailment in Chicago http://t.co/U...\n",
       "3261     NaN      NaN  MEG issues Hazardous Weather Outlook (HWO) htt...\n",
       "3262     NaN      NaN  #CityofCalgary has activated its Municipal Eme...\n",
       "\n",
       "[3263 rows x 3 columns]"
      ]
     },
     "execution_count": 60,
     "metadata": {},
     "output_type": "execute_result"
    }
   ],
   "source": [
    "test_df"
   ]
  },
  {
   "cell_type": "code",
   "execution_count": 66,
   "metadata": {},
   "outputs": [],
   "source": [
    "predictions=grid_search.predict(Xtest)"
   ]
  },
  {
   "cell_type": "code",
   "execution_count": 67,
   "metadata": {},
   "outputs": [],
   "source": [
    "predictions_df=pd.DataFrame({'id':ids,'target':predictions})\n",
    "predictions_df.to_csv('submission.csv', index=False)"
   ]
  },
  {
   "cell_type": "code",
   "execution_count": null,
   "metadata": {},
   "outputs": [],
   "source": []
  }
 ],
 "metadata": {
  "kernelspec": {
   "display_name": "Python 3",
   "language": "python",
   "name": "python3"
  },
  "language_info": {
   "codemirror_mode": {
    "name": "ipython",
    "version": 3
   },
   "file_extension": ".py",
   "mimetype": "text/x-python",
   "name": "python",
   "nbconvert_exporter": "python",
   "pygments_lexer": "ipython3",
   "version": "3.7.1"
  }
 },
 "nbformat": 4,
 "nbformat_minor": 2
}
